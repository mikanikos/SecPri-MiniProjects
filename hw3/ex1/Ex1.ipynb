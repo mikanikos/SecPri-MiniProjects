{
 "cells": [
  {
   "cell_type": "code",
   "execution_count": 214,
   "metadata": {},
   "outputs": [],
   "source": [
    "import pandas as pd\n",
    "import numpy as np\n",
    "import random\n",
    "import datetime"
   ]
  },
  {
   "cell_type": "code",
   "execution_count": 2,
   "metadata": {},
   "outputs": [],
   "source": [
    "DATA_DIR = \"data/\"\n",
    "EMAIL = \"andrea.piccione@epfl.ch\"\n",
    "\n",
    "# Found for the first exercise\n",
    "HASH_EMAIL = \"036dc6d8bb0decf1be8e94aaa5ee68a9dcd2f6c65e57ba00929495ff10e7a591\""
   ]
  },
  {
   "cell_type": "markdown",
   "metadata": {},
   "source": [
    "# Exercise 1"
   ]
  },
  {
   "cell_type": "markdown",
   "metadata": {},
   "source": [
    "## A"
   ]
  },
  {
   "cell_type": "code",
   "execution_count": 93,
   "metadata": {},
   "outputs": [],
   "source": [
    "# Loading and parsing\n",
    "com402_1 = pd.read_csv(DATA_DIR + \"com402-1.csv\", header=None, quotechar='\"',skipinitialspace=True)\n",
    "imdb_1 = pd.read_csv(DATA_DIR + \"imdb-1.csv\", header=None, quotechar='\"',skipinitialspace=True)\n",
    "com402_1.columns = [\"hash_email\", \"hash_movie\", \"date\", \"rating\"]\n",
    "imdb_1.columns = [\"email\", \"movie\", \"date\", \"rating\"]"
   ]
  },
  {
   "cell_type": "code",
   "execution_count": 94,
   "metadata": {},
   "outputs": [
    {
     "data": {
      "text/html": [
       "<div>\n",
       "<style scoped>\n",
       "    .dataframe tbody tr th:only-of-type {\n",
       "        vertical-align: middle;\n",
       "    }\n",
       "\n",
       "    .dataframe tbody tr th {\n",
       "        vertical-align: top;\n",
       "    }\n",
       "\n",
       "    .dataframe thead th {\n",
       "        text-align: right;\n",
       "    }\n",
       "</style>\n",
       "<table border=\"1\" class=\"dataframe\">\n",
       "  <thead>\n",
       "    <tr style=\"text-align: right;\">\n",
       "      <th></th>\n",
       "      <th>hash_email</th>\n",
       "      <th>hash_movie</th>\n",
       "      <th>date</th>\n",
       "      <th>rating</th>\n",
       "    </tr>\n",
       "  </thead>\n",
       "  <tbody>\n",
       "    <tr>\n",
       "      <th>0</th>\n",
       "      <td>ddb9241aaccbdc04515e17689dd7947cc9f6dbf5cec706...</td>\n",
       "      <td>af6429a1b26c02d9cbe2be0fa8139c3943e0e5a737eb0a...</td>\n",
       "      <td>01/01/01</td>\n",
       "      <td>2</td>\n",
       "    </tr>\n",
       "    <tr>\n",
       "      <th>1</th>\n",
       "      <td>7b1596d39c02955676414cd86717f9c54edcb9a35d47e8...</td>\n",
       "      <td>c01090522935bef23e6156530bf19c35d654e461771c61...</td>\n",
       "      <td>01/01/01</td>\n",
       "      <td>5</td>\n",
       "    </tr>\n",
       "    <tr>\n",
       "      <th>2</th>\n",
       "      <td>903ff3f053d4b36e5f7d3050aa38b869e62e8991513ed0...</td>\n",
       "      <td>0a28b2eba994d15df5b7fcbea41f3a0b6fa92e0d7c154f...</td>\n",
       "      <td>01/01/05</td>\n",
       "      <td>2</td>\n",
       "    </tr>\n",
       "    <tr>\n",
       "      <th>3</th>\n",
       "      <td>60fb4771f8f058aba6adecdefc702e219f9f61bc3b8fbe...</td>\n",
       "      <td>8b3ad398f391dba7e9c743c5785a2e0fa203f66d77e82e...</td>\n",
       "      <td>01/01/10</td>\n",
       "      <td>2</td>\n",
       "    </tr>\n",
       "    <tr>\n",
       "      <th>4</th>\n",
       "      <td>b419a53e6b2dc489741e470f10849e05cb0664d4317cec...</td>\n",
       "      <td>07f06dbe0bcb9f96c4d7d5a369f12644b0059577fe4c19...</td>\n",
       "      <td>01/02/01</td>\n",
       "      <td>5</td>\n",
       "    </tr>\n",
       "  </tbody>\n",
       "</table>\n",
       "</div>"
      ],
      "text/plain": [
       "                                          hash_email  \\\n",
       "0  ddb9241aaccbdc04515e17689dd7947cc9f6dbf5cec706...   \n",
       "1  7b1596d39c02955676414cd86717f9c54edcb9a35d47e8...   \n",
       "2  903ff3f053d4b36e5f7d3050aa38b869e62e8991513ed0...   \n",
       "3  60fb4771f8f058aba6adecdefc702e219f9f61bc3b8fbe...   \n",
       "4  b419a53e6b2dc489741e470f10849e05cb0664d4317cec...   \n",
       "\n",
       "                                          hash_movie      date  rating  \n",
       "0  af6429a1b26c02d9cbe2be0fa8139c3943e0e5a737eb0a...  01/01/01       2  \n",
       "1  c01090522935bef23e6156530bf19c35d654e461771c61...  01/01/01       5  \n",
       "2  0a28b2eba994d15df5b7fcbea41f3a0b6fa92e0d7c154f...  01/01/05       2  \n",
       "3  8b3ad398f391dba7e9c743c5785a2e0fa203f66d77e82e...  01/01/10       2  \n",
       "4  07f06dbe0bcb9f96c4d7d5a369f12644b0059577fe4c19...  01/02/01       5  "
      ]
     },
     "execution_count": 94,
     "metadata": {},
     "output_type": "execute_result"
    }
   ],
   "source": [
    "com402_1.head()"
   ]
  },
  {
   "cell_type": "code",
   "execution_count": 95,
   "metadata": {},
   "outputs": [
    {
     "data": {
      "text/html": [
       "<div>\n",
       "<style scoped>\n",
       "    .dataframe tbody tr th:only-of-type {\n",
       "        vertical-align: middle;\n",
       "    }\n",
       "\n",
       "    .dataframe tbody tr th {\n",
       "        vertical-align: top;\n",
       "    }\n",
       "\n",
       "    .dataframe thead th {\n",
       "        text-align: right;\n",
       "    }\n",
       "</style>\n",
       "<table border=\"1\" class=\"dataframe\">\n",
       "  <thead>\n",
       "    <tr style=\"text-align: right;\">\n",
       "      <th></th>\n",
       "      <th>email</th>\n",
       "      <th>movie</th>\n",
       "      <th>date</th>\n",
       "      <th>rating</th>\n",
       "    </tr>\n",
       "  </thead>\n",
       "  <tbody>\n",
       "    <tr>\n",
       "      <th>0</th>\n",
       "      <td>fouad.mazen@epfl.ch</td>\n",
       "      <td>Dr. Strangelove or: How I Learned to Stop Worr...</td>\n",
       "      <td>01/01/01</td>\n",
       "      <td>2</td>\n",
       "    </tr>\n",
       "    <tr>\n",
       "      <th>1</th>\n",
       "      <td>taehyun.lee@epfl.ch</td>\n",
       "      <td>The Night of the Hunter</td>\n",
       "      <td>01/01/01</td>\n",
       "      <td>5</td>\n",
       "    </tr>\n",
       "    <tr>\n",
       "      <th>2</th>\n",
       "      <td>jorn.hofstad@epfl.ch</td>\n",
       "      <td>Pulp Fiction</td>\n",
       "      <td>01/02/01</td>\n",
       "      <td>5</td>\n",
       "    </tr>\n",
       "    <tr>\n",
       "      <th>3</th>\n",
       "      <td>justinas.sukaitis@epfl.ch</td>\n",
       "      <td>Psycho</td>\n",
       "      <td>01/02/01</td>\n",
       "      <td>2</td>\n",
       "    </tr>\n",
       "    <tr>\n",
       "      <th>4</th>\n",
       "      <td>edouard.ghaleb@epfl.ch</td>\n",
       "      <td>Metropolis</td>\n",
       "      <td>01/02/08</td>\n",
       "      <td>5</td>\n",
       "    </tr>\n",
       "  </tbody>\n",
       "</table>\n",
       "</div>"
      ],
      "text/plain": [
       "                       email  \\\n",
       "0        fouad.mazen@epfl.ch   \n",
       "1        taehyun.lee@epfl.ch   \n",
       "2       jorn.hofstad@epfl.ch   \n",
       "3  justinas.sukaitis@epfl.ch   \n",
       "4     edouard.ghaleb@epfl.ch   \n",
       "\n",
       "                                               movie      date  rating  \n",
       "0  Dr. Strangelove or: How I Learned to Stop Worr...  01/01/01       2  \n",
       "1                            The Night of the Hunter  01/01/01       5  \n",
       "2                                       Pulp Fiction  01/02/01       5  \n",
       "3                                             Psycho  01/02/01       2  \n",
       "4                                         Metropolis  01/02/08       5  "
      ]
     },
     "execution_count": 95,
     "metadata": {},
     "output_type": "execute_result"
    }
   ],
   "source": [
    "imdb_1.head()"
   ]
  },
  {
   "cell_type": "code",
   "execution_count": 96,
   "metadata": {},
   "outputs": [
    {
     "data": {
      "text/html": [
       "<div>\n",
       "<style scoped>\n",
       "    .dataframe tbody tr th:only-of-type {\n",
       "        vertical-align: middle;\n",
       "    }\n",
       "\n",
       "    .dataframe tbody tr th {\n",
       "        vertical-align: top;\n",
       "    }\n",
       "\n",
       "    .dataframe thead th {\n",
       "        text-align: right;\n",
       "    }\n",
       "</style>\n",
       "<table border=\"1\" class=\"dataframe\">\n",
       "  <thead>\n",
       "    <tr style=\"text-align: right;\">\n",
       "      <th></th>\n",
       "      <th>hash_email</th>\n",
       "      <th>hash_movie</th>\n",
       "      <th>date</th>\n",
       "      <th>rating</th>\n",
       "      <th>email</th>\n",
       "      <th>movie</th>\n",
       "    </tr>\n",
       "  </thead>\n",
       "  <tbody>\n",
       "    <tr>\n",
       "      <th>0</th>\n",
       "      <td>ddb9241aaccbdc04515e17689dd7947cc9f6dbf5cec706...</td>\n",
       "      <td>af6429a1b26c02d9cbe2be0fa8139c3943e0e5a737eb0a...</td>\n",
       "      <td>01/01/01</td>\n",
       "      <td>2</td>\n",
       "      <td>fouad.mazen@epfl.ch</td>\n",
       "      <td>Dr. Strangelove or: How I Learned to Stop Worr...</td>\n",
       "    </tr>\n",
       "    <tr>\n",
       "      <th>1</th>\n",
       "      <td>7b1596d39c02955676414cd86717f9c54edcb9a35d47e8...</td>\n",
       "      <td>c01090522935bef23e6156530bf19c35d654e461771c61...</td>\n",
       "      <td>01/01/01</td>\n",
       "      <td>5</td>\n",
       "      <td>taehyun.lee@epfl.ch</td>\n",
       "      <td>The Night of the Hunter</td>\n",
       "    </tr>\n",
       "    <tr>\n",
       "      <th>2</th>\n",
       "      <td>b419a53e6b2dc489741e470f10849e05cb0664d4317cec...</td>\n",
       "      <td>07f06dbe0bcb9f96c4d7d5a369f12644b0059577fe4c19...</td>\n",
       "      <td>01/02/01</td>\n",
       "      <td>5</td>\n",
       "      <td>jorn.hofstad@epfl.ch</td>\n",
       "      <td>Pulp Fiction</td>\n",
       "    </tr>\n",
       "    <tr>\n",
       "      <th>3</th>\n",
       "      <td>21a219a0c7c530a0aa4e49545b2796e8441ad263bbbb71...</td>\n",
       "      <td>e7c02e81cb361ba61f5754ec742b1aed4c4f16df347e77...</td>\n",
       "      <td>01/02/01</td>\n",
       "      <td>2</td>\n",
       "      <td>justinas.sukaitis@epfl.ch</td>\n",
       "      <td>Psycho</td>\n",
       "    </tr>\n",
       "    <tr>\n",
       "      <th>4</th>\n",
       "      <td>9e520414c628ae504d13983dc684510b7936540cf426b0...</td>\n",
       "      <td>8e4e001a3cb65049009c631dcd90cde5f84163385e65ac...</td>\n",
       "      <td>01/02/08</td>\n",
       "      <td>5</td>\n",
       "      <td>edouard.ghaleb@epfl.ch</td>\n",
       "      <td>Metropolis</td>\n",
       "    </tr>\n",
       "  </tbody>\n",
       "</table>\n",
       "</div>"
      ],
      "text/plain": [
       "                                          hash_email  \\\n",
       "0  ddb9241aaccbdc04515e17689dd7947cc9f6dbf5cec706...   \n",
       "1  7b1596d39c02955676414cd86717f9c54edcb9a35d47e8...   \n",
       "2  b419a53e6b2dc489741e470f10849e05cb0664d4317cec...   \n",
       "3  21a219a0c7c530a0aa4e49545b2796e8441ad263bbbb71...   \n",
       "4  9e520414c628ae504d13983dc684510b7936540cf426b0...   \n",
       "\n",
       "                                          hash_movie      date  rating  \\\n",
       "0  af6429a1b26c02d9cbe2be0fa8139c3943e0e5a737eb0a...  01/01/01       2   \n",
       "1  c01090522935bef23e6156530bf19c35d654e461771c61...  01/01/01       5   \n",
       "2  07f06dbe0bcb9f96c4d7d5a369f12644b0059577fe4c19...  01/02/01       5   \n",
       "3  e7c02e81cb361ba61f5754ec742b1aed4c4f16df347e77...  01/02/01       2   \n",
       "4  8e4e001a3cb65049009c631dcd90cde5f84163385e65ac...  01/02/08       5   \n",
       "\n",
       "                       email  \\\n",
       "0        fouad.mazen@epfl.ch   \n",
       "1        taehyun.lee@epfl.ch   \n",
       "2       jorn.hofstad@epfl.ch   \n",
       "3  justinas.sukaitis@epfl.ch   \n",
       "4     edouard.ghaleb@epfl.ch   \n",
       "\n",
       "                                               movie  \n",
       "0  Dr. Strangelove or: How I Learned to Stop Worr...  \n",
       "1                            The Night of the Hunter  \n",
       "2                                       Pulp Fiction  \n",
       "3                                             Psycho  \n",
       "4                                         Metropolis  "
      ]
     },
     "execution_count": 96,
     "metadata": {},
     "output_type": "execute_result"
    }
   ],
   "source": [
    "# Join databases for de-anonimization\n",
    "db_join = pd.merge(com402_1, imdb_1, left_on=[\"date\", \"rating\"], right_on=[\"date\", \"rating\"])\n",
    "db_join.head()"
   ]
  },
  {
   "cell_type": "code",
   "execution_count": 97,
   "metadata": {},
   "outputs": [
    {
     "data": {
      "text/html": [
       "<div>\n",
       "<style scoped>\n",
       "    .dataframe tbody tr th:only-of-type {\n",
       "        vertical-align: middle;\n",
       "    }\n",
       "\n",
       "    .dataframe tbody tr th {\n",
       "        vertical-align: top;\n",
       "    }\n",
       "\n",
       "    .dataframe thead th {\n",
       "        text-align: right;\n",
       "    }\n",
       "</style>\n",
       "<table border=\"1\" class=\"dataframe\">\n",
       "  <thead>\n",
       "    <tr style=\"text-align: right;\">\n",
       "      <th></th>\n",
       "      <th>hash_email</th>\n",
       "      <th>hash_movie</th>\n",
       "      <th>date</th>\n",
       "      <th>rating</th>\n",
       "    </tr>\n",
       "  </thead>\n",
       "  <tbody>\n",
       "    <tr>\n",
       "      <th>264</th>\n",
       "      <td>036dc6d8bb0decf1be8e94aaa5ee68a9dcd2f6c65e57ba...</td>\n",
       "      <td>1f51a8b9baf5e93bacbdb95d74d19386cb856ca6f95512...</td>\n",
       "      <td>04/06/01</td>\n",
       "      <td>2</td>\n",
       "    </tr>\n",
       "    <tr>\n",
       "      <th>445</th>\n",
       "      <td>036dc6d8bb0decf1be8e94aaa5ee68a9dcd2f6c65e57ba...</td>\n",
       "      <td>b711dc34949b07fe84f8c05810f6704781df787e83ae17...</td>\n",
       "      <td>06/07/16</td>\n",
       "      <td>2</td>\n",
       "    </tr>\n",
       "    <tr>\n",
       "      <th>447</th>\n",
       "      <td>036dc6d8bb0decf1be8e94aaa5ee68a9dcd2f6c65e57ba...</td>\n",
       "      <td>cf85ce5897e9b9d6d30e388347755e15489497c4a41c27...</td>\n",
       "      <td>06/08/11</td>\n",
       "      <td>1</td>\n",
       "    </tr>\n",
       "    <tr>\n",
       "      <th>584</th>\n",
       "      <td>036dc6d8bb0decf1be8e94aaa5ee68a9dcd2f6c65e57ba...</td>\n",
       "      <td>07f06dbe0bcb9f96c4d7d5a369f12644b0059577fe4c19...</td>\n",
       "      <td>08/01/02</td>\n",
       "      <td>3</td>\n",
       "    </tr>\n",
       "    <tr>\n",
       "      <th>699</th>\n",
       "      <td>036dc6d8bb0decf1be8e94aaa5ee68a9dcd2f6c65e57ba...</td>\n",
       "      <td>8b57019512edaf0fb214ca890309d560a5f3102cea6e67...</td>\n",
       "      <td>09/04/13</td>\n",
       "      <td>3</td>\n",
       "    </tr>\n",
       "  </tbody>\n",
       "</table>\n",
       "</div>"
      ],
      "text/plain": [
       "                                            hash_email  \\\n",
       "264  036dc6d8bb0decf1be8e94aaa5ee68a9dcd2f6c65e57ba...   \n",
       "445  036dc6d8bb0decf1be8e94aaa5ee68a9dcd2f6c65e57ba...   \n",
       "447  036dc6d8bb0decf1be8e94aaa5ee68a9dcd2f6c65e57ba...   \n",
       "584  036dc6d8bb0decf1be8e94aaa5ee68a9dcd2f6c65e57ba...   \n",
       "699  036dc6d8bb0decf1be8e94aaa5ee68a9dcd2f6c65e57ba...   \n",
       "\n",
       "                                            hash_movie      date  rating  \n",
       "264  1f51a8b9baf5e93bacbdb95d74d19386cb856ca6f95512...  04/06/01       2  \n",
       "445  b711dc34949b07fe84f8c05810f6704781df787e83ae17...  06/07/16       2  \n",
       "447  cf85ce5897e9b9d6d30e388347755e15489497c4a41c27...  06/08/11       1  \n",
       "584  07f06dbe0bcb9f96c4d7d5a369f12644b0059577fe4c19...  08/01/02       3  \n",
       "699  8b57019512edaf0fb214ca890309d560a5f3102cea6e67...  09/04/13       3  "
      ]
     },
     "execution_count": 97,
     "metadata": {},
     "output_type": "execute_result"
    }
   ],
   "source": [
    "# Get entries that match my hashed email, previously checked \n",
    "list_enc = com402_1[com402_1.hash_email == HASH_EMAIL]\n",
    "list_enc.head()"
   ]
  },
  {
   "cell_type": "code",
   "execution_count": 98,
   "metadata": {},
   "outputs": [],
   "source": [
    "# Itereate over my entries in com402 and get the name of the movie from the join of the dbs\n",
    "movie_list = []\n",
    "for m in list_enc.hash_movie:\n",
    "    movie_list.append(db_join[db_join.hash_movie == m].iloc[0].movie)"
   ]
  },
  {
   "cell_type": "code",
   "execution_count": 99,
   "metadata": {},
   "outputs": [
    {
     "data": {
      "text/plain": [
       "['2001: A Space Odyssey',\n",
       " 'Sunset Blvd.',\n",
       " 'Chinatown',\n",
       " 'Pulp Fiction',\n",
       " 'Seven Samurai',\n",
       " 'Star Wars: Episode V - The Empire Strikes Back',\n",
       " 'Double Indemnity',\n",
       " 'On the Waterfront',\n",
       " '12 Angry Men',\n",
       " \"Schindler's List\"]"
      ]
     },
     "execution_count": 99,
     "metadata": {},
     "output_type": "execute_result"
    }
   ],
   "source": [
    "movie_list"
   ]
  },
  {
   "cell_type": "code",
   "execution_count": 91,
   "metadata": {},
   "outputs": [],
   "source": [
    "# Saving result in file\n",
    "pd.Series(movie_list).to_csv(\"movies_1\", index=False, header=False)"
   ]
  },
  {
   "cell_type": "markdown",
   "metadata": {},
   "source": [
    "## B"
   ]
  },
  {
   "cell_type": "code",
   "execution_count": 3,
   "metadata": {},
   "outputs": [],
   "source": [
    "# Loading and parsing\n",
    "com402_2 = pd.read_csv(DATA_DIR + \"com402-2.csv\", header=None, quotechar='\"',skipinitialspace=True)\n",
    "imdb_2 = pd.read_csv(DATA_DIR + \"imdb-2.csv\", header=None, quotechar='\"',skipinitialspace=True)\n",
    "com402_2.columns = [\"hash_email\", \"hash_movie\", \"date\", \"rating\"]\n",
    "imdb_2.columns = [\"email\", \"movie\", \"date\", \"rating\"]"
   ]
  },
  {
   "cell_type": "code",
   "execution_count": 16,
   "metadata": {},
   "outputs": [],
   "source": [
    "hash_counts = pd.DataFrame(com402_2.hash_movie.value_counts()).reset_index()\n",
    "hash_counts.columns = [\"hash\", \"counts\"]"
   ]
  },
  {
   "cell_type": "code",
   "execution_count": 17,
   "metadata": {},
   "outputs": [],
   "source": [
    "movie_counts = pd.DataFrame(imdb_2.movie.value_counts()).reset_index()\n",
    "movie_counts.columns = [\"movie\", \"counts\"]"
   ]
  },
  {
   "cell_type": "code",
   "execution_count": 20,
   "metadata": {},
   "outputs": [],
   "source": [
    "# Join databases for de-anonimization\n",
    "match_movie_hash = pd.concat([movie_counts.movie, hash_counts.hash], axis=1, sort=False)"
   ]
  },
  {
   "cell_type": "code",
   "execution_count": 22,
   "metadata": {},
   "outputs": [],
   "source": [
    "com402_2_ext = pd.merge(match_movie_hash, com402_2, left_on=\"hash\", right_on=\"hash_movie\")"
   ]
  },
  {
   "cell_type": "code",
   "execution_count": 25,
   "metadata": {},
   "outputs": [],
   "source": [
    "my_movie_list = list(imdb_2[imdb_2.email == EMAIL].movie)\n",
    " \n",
    "for u in com402_2_ext.hash_email.drop_duplicates():\n",
    "    movie_list = com402_2_ext[com402_2_ext.hash_email == u].movie\n",
    "    if set(my_movie_list) <= set(movie_list):\n",
    "        my_hash = u\n",
    "\n",
    "movie_list = list(com402_2_ext[com402_2_ext.hash_email == my_hash].movie)"
   ]
  },
  {
   "cell_type": "code",
   "execution_count": 28,
   "metadata": {},
   "outputs": [
    {
     "data": {
      "text/plain": [
       "['The Godfather',\n",
       " 'Seven Samurai',\n",
       " 'The Godfather: Part II',\n",
       " 'Pulp Fiction',\n",
       " '12 Angry Men',\n",
       " 'Lawrence of Arabia',\n",
       " \"Schindler's List\",\n",
       " 'Modern Times',\n",
       " 'Spirited Away',\n",
       " 'Dr. Strangelove or: How I Learned to Stop Worrying and Love the Bomb',\n",
       " 'Casablanca',\n",
       " 'Citizen Kane',\n",
       " 'Vertigo',\n",
       " 'Star Wars: Episode V - The Empire Strikes Back',\n",
       " 'Chinatown',\n",
       " 'Paths of Glory',\n",
       " 'Double Indemnity',\n",
       " 'North by Northwest',\n",
       " 'Tokyo Story',\n",
       " 'All About Eve']"
      ]
     },
     "execution_count": 28,
     "metadata": {},
     "output_type": "execute_result"
    }
   ],
   "source": [
    "movie_list"
   ]
  },
  {
   "cell_type": "code",
   "execution_count": 29,
   "metadata": {},
   "outputs": [],
   "source": [
    "# Saving result in file\n",
    "pd.Series(movie_list).to_csv(\"movies_2\", index=False, header=False)"
   ]
  },
  {
   "cell_type": "markdown",
   "metadata": {},
   "source": [
    "## C"
   ]
  },
  {
   "cell_type": "code",
   "execution_count": 395,
   "metadata": {},
   "outputs": [],
   "source": [
    "# Loading and parsing\n",
    "com402_3 = pd.read_csv(\"com402-3.csv\", sep=',', skipinitialspace=True, header=None, names=['hash_email', 'hash_movie', 'date', 'rating'], converters={\"date\": lambda s: datetime.strptime(s, '%d/%m/%y')})\n",
    "imdb_3 = pd.read_csv(\"imdb-3.csv\", sep=',', skipinitialspace=True, header=None, names=['email', 'movie', 'date', 'rating'], converters={\"date\": lambda s: datetime.strptime(s, '%d/%m/%y')})"
   ]
  },
  {
   "cell_type": "code",
   "execution_count": 398,
   "metadata": {},
   "outputs": [],
   "source": [
    "my_dates = list(imdb_3[imdb_3.email == EMAIL].date)"
   ]
  },
  {
   "cell_type": "code",
   "execution_count": 397,
   "metadata": {},
   "outputs": [],
   "source": [
    "all_name_hashes = set(com402_3.hash_email)"
   ]
  },
  {
   "cell_type": "code",
   "execution_count": 404,
   "metadata": {
    "scrolled": false
   },
   "outputs": [],
   "source": [
    "# Founding my hash\n",
    "list_sets = []\n",
    "margin = datetime.timedelta(days = 14)\n",
    "for i in my_dates:\n",
    "    set_date = set()\n",
    "    for j in all_name_hashes:\n",
    "        dates_hashes = set(com402_3[com402_3.hash_email == j].date)\n",
    "        for d in dates_hashes:\n",
    "            if d >= i - margin and d <= i + margin:\n",
    "                set_date.add(j)\n",
    "    list_sets.append(set_date)"
   ]
  },
  {
   "cell_type": "code",
   "execution_count": 411,
   "metadata": {},
   "outputs": [],
   "source": [
    "my_hash = list(set.intersection(*list_sets))[0]"
   ]
  },
  {
   "cell_type": "code",
   "execution_count": 412,
   "metadata": {},
   "outputs": [
    {
     "data": {
      "text/plain": [
       "'2780c7510d2762b80e61b17ce562f9ca3aedaa5ef317b48b8de41cafa34a6f6b'"
      ]
     },
     "execution_count": 412,
     "metadata": {},
     "output_type": "execute_result"
    }
   ],
   "source": [
    "my_hash"
   ]
  },
  {
   "cell_type": "code",
   "execution_count": 413,
   "metadata": {},
   "outputs": [],
   "source": [
    "my_hash_movies = com402_3[com402_3.hash_email == my_hash]"
   ]
  },
  {
   "cell_type": "code",
   "execution_count": 416,
   "metadata": {},
   "outputs": [],
   "source": [
    "my_hash_dates = list(my_hash_movies.date)"
   ]
  },
  {
   "cell_type": "code",
   "execution_count": 483,
   "metadata": {},
   "outputs": [],
   "source": [
    "# Foudning movies corresponding to my hash\n",
    "movies_res = []\n",
    "for h_m in com402_3[com402_3['hash_email'] == my_hash]['hash_movie']:\n",
    "    movie_date = list(com402_3[com402_3['hash_movie']==h_m]['date'])\n",
    "    movie_dictionary = imdb_3[['movie', 'date']].groupby('movie')['date'].apply(list).to_dict()\n",
    "    for key, val in movie_dictionary.items():\n",
    "        first_condition = True\n",
    "        second_condition = True\n",
    "        for j in range(len(val)):\n",
    "            for i in range(len(movie_date)):\n",
    "                if 14 > abs((movie_date[i] - val[j]).days):\n",
    "                    break\n",
    "                if len(movie_date) - 1 == i:\n",
    "                    first_condition = False\n",
    "                    second_condition = False\n",
    "            if not second_condition:\n",
    "                break\n",
    "        if first_condition:\n",
    "            movies_res.append(key)\n",
    "            break"
   ]
  },
  {
   "cell_type": "code",
   "execution_count": 488,
   "metadata": {},
   "outputs": [],
   "source": [
    "# Saving result in file --> didn't work for some strange reasons, I copied and pasted in a file the below print\n",
    "pd.Series(movies_res).to_csv(\"movies_3\", index=False, header=False)"
   ]
  },
  {
   "cell_type": "code",
   "execution_count": 485,
   "metadata": {},
   "outputs": [
    {
     "name": "stdout",
     "output_type": "stream",
     "text": [
      "Jurassic Park\n",
      "Fanny and Alexander\n",
      "Chinatown\n",
      "Ikiru\n",
      "Blue Velvet\n",
      "Monty Python and the Holy Grail\n",
      "Raiders of the Lost Ark\n",
      "Alien\n",
      "Rififi\n",
      "The Lord of the Rings: The Fellowship of the Ring\n",
      "Solaris\n",
      "Ugetsu monogatari\n",
      "WALLE\n",
      "Mr. Smith Goes to Washington\n",
      "All the President's Men\n",
      "E.T. the Extra-Terrestrial\n",
      "Le Samoura\n",
      "Night of the Living Dead\n",
      "Touch of Evil\n",
      "Brief Encounter\n",
      "12 Years a Slave\n",
      "Young Frankenstein\n",
      "City Lights\n",
      "Amelie\n",
      "Trainspotting\n",
      "Days of Heaven\n",
      "The Terminator\n",
      "Psycho\n",
      "The Godfather\n",
      "2001: A Space Odyssey\n",
      "The Killer\n",
      "The Shawshank Redemption\n",
      "Rope\n",
      "The Big Lebowski\n",
      "La rgle du jeu\n",
      "Finding Nemo\n",
      "King Kong\n",
      "The Passion of Joan of Arc\n",
      "The Elephant Man\n",
      "The Godfather: Part II\n",
      "The 400 Blows\n",
      "City of God\n",
      "Ratatouille\n",
      "Se7en\n",
      "The Lion King\n",
      "Sunset Blvd.\n",
      "Network\n",
      "Barry Lyndon\n",
      "Les diaboliques\n",
      "Andrei Rublev\n",
      "Before Midnight\n",
      "The Leopard\n",
      "The Best Years of Our Lives\n",
      "Harakiri\n",
      "4 Months, 3 Weeks & 2 Days\n",
      "A Clockwork Orange\n",
      "The Pianist\n",
      "M\n",
      "Three Colors: Red\n",
      "The Big Sleep\n",
      "Butch Cassidy and the Sundance Kid\n",
      "Singin' in the Rain\n",
      "A Separation\n",
      "Harold and Maude\n",
      "Fight Club\n",
      "Amores perros\n",
      "The Manchurian Candidate\n",
      "Stand by Me\n",
      "Vertigo\n",
      "It's a Wonderful Life\n",
      "The Army of Shadows\n",
      "Once Upon a Time in the West\n",
      "Infernal Affairs\n",
      "Indiana Jones and the Last Crusade\n",
      "Spring, Summer, Autumn, Winter... and Spring\n",
      "Lawrence of Arabia\n",
      "Lagaan: Once Upon a Time in India\n",
      "It Happened One Night\n",
      "A Prophet\n",
      "Strangers on a Train\n",
      "The Great Dictator\n",
      "Toy Story 2\n",
      "The Shining\n",
      "The Wild Bunch\n",
      "Chungking Express\n",
      "Rear Window\n",
      "L.A. Confidential\n",
      "The Wages of Fear\n",
      "Sweet Smell of Success\n",
      "The Lord of the Rings: The Return of the King\n",
      "The Bride of Frankenstein\n",
      "The Maltese Falcon\n",
      "Inception\n",
      "The Princess Bride\n",
      "My Neighbor Totoro\n",
      "On the Waterfront\n",
      "Festen\n",
      "Mad Max: Fury Road\n",
      "Pather Panchali\n",
      "Au Revoir Les Enfants\n"
     ]
    }
   ],
   "source": [
    "print((*movies_res), sep='\\n')"
   ]
  },
  {
   "cell_type": "code",
   "execution_count": null,
   "metadata": {},
   "outputs": [],
   "source": []
  },
  {
   "cell_type": "code",
   "execution_count": null,
   "metadata": {},
   "outputs": [],
   "source": []
  }
 ],
 "metadata": {
  "kernelspec": {
   "display_name": "Python 3",
   "language": "python",
   "name": "python3"
  },
  "language_info": {
   "codemirror_mode": {
    "name": "ipython",
    "version": 3
   },
   "file_extension": ".py",
   "mimetype": "text/x-python",
   "name": "python",
   "nbconvert_exporter": "python",
   "pygments_lexer": "ipython3",
   "version": "3.7.2"
  }
 },
 "nbformat": 4,
 "nbformat_minor": 2
}
