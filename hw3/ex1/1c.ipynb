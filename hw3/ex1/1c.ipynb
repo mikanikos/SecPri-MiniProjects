{
 "cells": [
  {
   "cell_type": "code",
   "execution_count": 1,
   "metadata": {},
   "outputs": [],
   "source": [
    "import pandas as pd\n",
    "from datetime import datetime, timedelta"
   ]
  },
  {
   "cell_type": "code",
   "execution_count": 2,
   "metadata": {},
   "outputs": [],
   "source": [
    "com402 = pd.read_csv(\"com402-3.csv\", sep=',', skipinitialspace=True, header=None, names=['mail', 'movie', 'date', 'rating'], converters={\"date\": lambda s: datetime.strptime(s, '%d/%m/%y')})\n",
    "imdb = pd.read_csv(\"imdb-3.csv\", sep=',', skipinitialspace=True, header=None, names=['mail', 'movie', 'date', 'rating'], converters={\"date\": lambda s: datetime.strptime(s, '%d/%m/%y')})"
   ]
  },
  {
   "cell_type": "code",
   "execution_count": 3,
   "metadata": {},
   "outputs": [],
   "source": [
    "def find_hash(user):\n",
    "    imdb_user = imdb[imdb['mail']==user]\n",
    "    candidates = []\n",
    "    date = imdb_user.iloc[0].date\n",
    "    for i in range(-13, 14):\n",
    "        candidates.append(com402[com402['date'] == date + timedelta(days=i)].mail.values)\n",
    "    candidates = [item for sublist in candidates for item in sublist]\n",
    "    cur = []\n",
    "    for date in imdb_user['date']:\n",
    "        for i in range(-13, 14):\n",
    "            cur.append(com402[com402['date'] == date + timedelta(days=i)].mail.values)\n",
    "        cur = [item for sublist in cur for item in sublist]\n",
    "        for elem in candidates:\n",
    "            if elem not in cur:\n",
    "                candidates.remove(elem)\n",
    "    return candidates[0]\n",
    "    "
   ]
  },
  {
   "cell_type": "code",
   "execution_count": 4,
   "metadata": {
    "scrolled": true
   },
   "outputs": [],
   "source": [
    "hash_matduc = find_hash('andrea.piccione@epfl.ch')\n",
    "com402_matduc = com402[com402['mail']==hash_matduc]"
   ]
  },
  {
   "cell_type": "code",
   "execution_count": 5,
   "metadata": {},
   "outputs": [
    {
     "data": {
      "text/plain": [
       "'2780c7510d2762b80e61b17ce562f9ca3aedaa5ef317b48b8de41cafa34a6f6b'"
      ]
     },
     "execution_count": 5,
     "metadata": {},
     "output_type": "execute_result"
    }
   ],
   "source": [
    "hash_matduc"
   ]
  },
  {
   "cell_type": "code",
   "execution_count": 38,
   "metadata": {},
   "outputs": [],
   "source": [
    "hash2name = {}\n",
    "for hash_movie in com402_matduc['movie']:\n",
    "    movie_df = com402[com402['movie']==hash_movie]\n",
    "    list_date_movie = list(movie_df['date'])\n",
    "    tmp = imdb[['movie', 'date']].groupby('movie')['date'].apply(list).to_dict()\n",
    "    for k, v in tmp.items():\n",
    "        flag = True\n",
    "        flag2 = True\n",
    "        for j in range(len(v)):\n",
    "            for i in range(len(list_date_movie)):\n",
    "                if abs((list_date_movie[i] - v[j]).days) < 14:\n",
    "                    break\n",
    "                if i == len(list_date_movie) - 1:\n",
    "                    flag = False\n",
    "                    flag2 = False\n",
    "            if flag2 == False:\n",
    "                break\n",
    "        if flag == True:\n",
    "            hash2name[hash_movie] = k\n",
    "            break"
   ]
  },
  {
   "cell_type": "code",
   "execution_count": 42,
   "metadata": {},
   "outputs": [
    {
     "name": "stdout",
     "output_type": "stream",
     "text": [
      "Dog Day Afternoon\n",
      "High and Low\n",
      "The Man with No Name 2: For a Few Dollars More\n",
      "Fanny and Alexander\n",
      "Citizen Kane\n",
      "La Dolce Vita\n",
      "It Happened One Night\n",
      "E.T. the Extra-Terrestrial\n",
      "The Matrix\n",
      "Strangers on a Train\n",
      "Taxi Driver\n",
      "The Princess Bride\n",
      "Viridiana\n",
      "The Adventures of Robin Hood\n",
      "Roman Holiday\n",
      "Brazil\n",
      "Rebecca\n",
      "Nosferatu\n",
      "Rififi\n",
      "Chinatown\n",
      "Notorious\n",
      "There Will Be Blood\n",
      "The Bride of Frankenstein\n",
      "Blade Runner\n",
      "To Kill a Mockingbird\n",
      "Ratatouille\n",
      "Bringing Up Baby\n",
      "Touch of Evil\n",
      "L.A. Confidential\n",
      "The Hunt\n",
      "Being There\n",
      "Woman in the Dunes\n",
      "Metropolis\n",
      "Monty Python and the Holy Grail\n",
      "Princess Mononoke\n",
      "Das Boot\n",
      "The Graduate\n",
      "Talk to Her\n",
      "The Hustler\n",
      "The Red Shoes\n",
      "Ran\n",
      "Beauty and the Beast\n",
      "Witness for the Prosecution\n",
      "Jaws\n",
      "The Secret in Their Eyes\n",
      "Le Samoura\n",
      "Rashomon\n",
      "Bonnie and Clyde\n",
      "King Kong\n",
      "Frankenstein\n",
      "Memento\n",
      "WALLE\n",
      "Lawrence of Arabia\n",
      "Brief Encounter\n",
      "Dr. Strangelove or: How I Learned to Stop Worrying and Love the Bomb\n",
      "Le notti di Cabiria\n",
      "Duck Soup\n",
      "Three Colors: Red\n",
      "The Sting\n",
      "Spirited Away\n",
      "The Conversation\n",
      "A Prophet\n",
      "The Terminator\n",
      "The Discreet Charm of the Bourgeoisie\n",
      "Fargo\n",
      "To Be or Not to Be\n",
      "The Artist\n",
      "Life Is Beautiful\n",
      "The Third Man\n",
      "Heat\n",
      "The Seventh Seal\n",
      "The Manchurian Candidate\n",
      "Paris, Texas\n",
      "No Country for Old Men\n",
      "Tokyo Story\n",
      "Harold and Maude\n",
      "The Big Lebowski\n",
      "Aliens\n",
      "City Lights\n",
      "American History X\n",
      "Trainspotting\n",
      "Finding Nemo\n",
      "The Battle of Algiers\n",
      "All About Eve\n",
      "Goodfellas\n",
      "In the Mood for Love\n",
      "The Leopard\n",
      "Rosemary's Baby\n",
      "Raiders of the Lost Ark\n",
      "The Passion of Joan of Arc\n",
      "Los Olvidados\n",
      "The Best Years of Our Lives\n",
      "Star Wars: Episode V - The Empire Strikes Back\n",
      "Butch Cassidy and the Sundance Kid\n",
      "The Mirror\n",
      "Singin' in the Rain\n",
      "Rio Bravo\n",
      "Downfall\n",
      "The Kid\n",
      "The Iron Giant\n"
     ]
    }
   ],
   "source": [
    "print(*list(hash2name.values()), sep='\\n')"
   ]
  }
 ],
 "metadata": {
  "kernelspec": {
   "display_name": "Python 3",
   "language": "python",
   "name": "python3"
  },
  "language_info": {
   "codemirror_mode": {
    "name": "ipython",
    "version": 3
   },
   "file_extension": ".py",
   "mimetype": "text/x-python",
   "name": "python",
   "nbconvert_exporter": "python",
   "pygments_lexer": "ipython3",
   "version": "3.7.2"
  }
 },
 "nbformat": 4,
 "nbformat_minor": 2
}
